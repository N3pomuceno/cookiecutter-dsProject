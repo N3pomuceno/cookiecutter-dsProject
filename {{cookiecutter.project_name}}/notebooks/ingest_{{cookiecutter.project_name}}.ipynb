{
 "cells": [
  {
   "cell_type": "markdown",
   "id": "2805830e",
   "metadata": {},
   "source": [
    "# **Data Ingestions**"
   ]
  },
  {
   "cell_type": "code",
   "execution_count": null,
   "id": "8607220f",
   "metadata": {},
   "outputs": [],
   "source": [
    "# To be able to use the src module\n",
    "import sys\n",
    "import os \n",
    "sys.path.append(os.path.abspath(\"../src\"))"
   ]
  }
 ],
 "metadata": {
  "language_info": {
   "name": "python"
  }
 },
 "nbformat": 4,
 "nbformat_minor": 5
}
